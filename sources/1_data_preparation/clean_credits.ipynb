{
 "cells": [
  {
   "cell_type": "markdown",
   "id": "initial_id",
   "metadata": {},
   "source": [
    "# Handle missing data for Credits (Order 4 - Optional)"
   ]
  },
  {
   "cell_type": "code",
   "id": "load_dataset",
   "metadata": {
    "ExecuteTime": {
     "end_time": "2025-10-25T03:54:16.786710Z",
     "start_time": "2025-10-25T03:54:15.590601Z"
    }
   },
   "source": [
    "import pandas as pd\n",
    "import ast\n",
    "\n",
    "df = pd.read_csv('../../datasets/input/credits.csv')\n",
    "data = df.copy()\n",
    "\n",
    "print(f\"Dataset loaded: {len(data)} rows, {len(data.columns)} columns\")\n",
    "print(f\"Columns: {list(data.columns)}\")"
   ],
   "outputs": [
    {
     "name": "stdout",
     "output_type": "stream",
     "text": [
      "Dataset loaded: 45476 rows, 3 columns\n",
      "Columns: ['cast', 'crew', 'id']\n"
     ]
    }
   ],
   "execution_count": 1
  },
  {
   "cell_type": "markdown",
   "id": "missing_data_analysis",
   "metadata": {},
   "source": [
    "# Credits Missing Data Analysis"
   ]
  },
  {
   "cell_type": "code",
   "id": "check_missing",
   "metadata": {
    "ExecuteTime": {
     "end_time": "2025-10-25T03:54:17.880463Z",
     "start_time": "2025-10-25T03:54:17.872847Z"
    }
   },
   "source": [
    "print(\"Columns with missing data:\\n\")\n",
    "\n",
    "missing_data = []\n",
    "for column in data.columns:\n",
    "    missing_count = data[column].isnull().sum()\n",
    "    if missing_count > 0:\n",
    "        missing_pct = (missing_count / len(data)) * 100\n",
    "        missing_data.append({\n",
    "            'Column': column,\n",
    "            'Missing Count': missing_count,\n",
    "            'Missing %': f\"{missing_pct:.2f}%\"\n",
    "        })\n",
    "        print(f\"{column:30} | {missing_count:6} missing ({missing_pct:5.2f}%)\")\n",
    "\n",
    "print(f\"\\nTotal columns: {len(data.columns)}\")\n",
    "print(f\"Columns with missing data: {len(missing_data)}\")\n",
    "print(f\"Columns without missing data: {len(data.columns) - len(missing_data)}\")"
   ],
   "outputs": [
    {
     "name": "stdout",
     "output_type": "stream",
     "text": [
      "Columns with missing data:\n",
      "\n",
      "\n",
      "Total columns: 3\n",
      "Columns with missing data: 0\n",
      "Columns without missing data: 3\n"
     ]
    }
   ],
   "execution_count": 2
  },
  {
   "cell_type": "markdown",
   "id": "step1",
   "metadata": {},
   "source": [
    "# Step 1: Drop rows with missing id"
   ]
  },
  {
   "cell_type": "code",
   "id": "drop_missing_id",
   "metadata": {
    "ExecuteTime": {
     "end_time": "2025-10-25T03:54:19.576356Z",
     "start_time": "2025-10-25T03:54:19.571358Z"
    }
   },
   "source": [
    "# Drop rows with missing id (cannot merge without this field)\n",
    "rows_before = len(data)\n",
    "\n",
    "data = data.dropna(subset=['id'])\n",
    "\n",
    "rows_dropped = rows_before - len(data)\n",
    "print(f\"Rows dropped due to missing id: {rows_dropped}\")\n",
    "print(f\"Remaining rows: {len(data)}\")\n",
    "print(f\"Percentage retained: {(len(data)/rows_before)*100:.2f}%\")\n",
    "\n",
    "# Convert id to integer for proper merging\n",
    "data['id'] = data['id'].astype(int)"
   ],
   "outputs": [
    {
     "name": "stdout",
     "output_type": "stream",
     "text": [
      "Rows dropped due to missing id: 0\n",
      "Remaining rows: 45476\n",
      "Percentage retained: 100.00%\n"
     ]
    }
   ],
   "execution_count": 3
  },
  {
   "cell_type": "markdown",
   "id": "step2",
   "metadata": {},
   "source": [
    "# Step 2: Parse JSON columns (cast and crew)"
   ]
  },
  {
   "cell_type": "code",
   "id": "parse_cast",
   "metadata": {
    "ExecuteTime": {
     "end_time": "2025-10-25T03:54:36.636950Z",
     "start_time": "2025-10-25T03:54:22.328168Z"
    }
   },
   "source": [
    "def parse_cast(cast_str, top_n=5):\n",
    "    \"\"\"\n",
    "    Parse cast JSON string and extract top N actor names.\n",
    "    Returns list of actor names ordered by billing order.\n",
    "    \"\"\"\n",
    "    try:\n",
    "        if pd.isna(cast_str):\n",
    "            return []\n",
    "        cast_list = ast.literal_eval(cast_str)\n",
    "        # Sort by 'order' field and take top N\n",
    "        sorted_cast = sorted(cast_list, key=lambda x: x.get('order', 999))\n",
    "        return [actor['name'] for actor in sorted_cast[:top_n] if 'name' in actor]\n",
    "    except:\n",
    "        return []\n",
    "\n",
    "def parse_crew_directors(crew_str):\n",
    "    \"\"\"\n",
    "    Parse crew JSON string and extract director names.\n",
    "    Returns list of directors.\n",
    "    \"\"\"\n",
    "    try:\n",
    "        if pd.isna(crew_str):\n",
    "            return []\n",
    "        crew_list = ast.literal_eval(crew_str)\n",
    "        # Extract only directors\n",
    "        directors = [member['name'] for member in crew_list \n",
    "                    if member.get('job') == 'Director' and 'name' in member]\n",
    "        return directors\n",
    "    except:\n",
    "        return []\n",
    "\n",
    "# Apply parsing functions\n",
    "print(\"Parsing cast (extracting top 5 actors)...\")\n",
    "data['cast_list'] = data['cast'].apply(parse_cast)\n",
    "\n",
    "print(\"Parsing crew (extracting directors)...\")\n",
    "data['director_list'] = data['crew'].apply(parse_crew_directors)\n",
    "\n",
    "print(\"\\n✓ JSON columns parsed successfully\")\n",
    "print(\"\\nExample results:\")\n",
    "print(data[['id', 'cast_list', 'director_list']].head(3))"
   ],
   "outputs": [
    {
     "name": "stdout",
     "output_type": "stream",
     "text": [
      "Parsing cast (extracting top 5 actors)...\n",
      "Parsing crew (extracting directors)...\n",
      "\n",
      "✓ JSON columns parsed successfully\n",
      "\n",
      "Example results:\n",
      "      id                                          cast_list    director_list\n",
      "0    862  [Tom Hanks, Tim Allen, Don Rickles, Jim Varney...  [John Lasseter]\n",
      "1   8844  [Robin Williams, Jonathan Hyde, Kirsten Dunst,...   [Joe Johnston]\n",
      "2  15602  [Walter Matthau, Jack Lemmon, Ann-Margret, Sop...  [Howard Deutch]\n"
     ]
    }
   ],
   "execution_count": 4
  },
  {
   "cell_type": "markdown",
   "id": "step3",
   "metadata": {},
   "source": [
    "# Step 3: Verify id exists in cleaned_movies_metadata"
   ]
  },
  {
   "cell_type": "code",
   "id": "verify_metadata",
   "metadata": {
    "ExecuteTime": {
     "end_time": "2025-10-25T03:56:54.051936Z",
     "start_time": "2025-10-25T03:56:53.836856Z"
    }
   },
   "source": [
    "# Load cleaned movies metadata to verify ids\n",
    "movies_metadata = pd.read_csv('../../datasets/output/cleaned_datasets/cleaned_movies_metadata.csv')\n",
    "valid_movie_ids = set(movies_metadata['id'].unique())\n",
    "\n",
    "print(f\"Valid movie IDs in metadata: {len(valid_movie_ids)}\")\n",
    "\n",
    "# Keep only credits for movies that exist in metadata\n",
    "rows_before_validation = len(data)\n",
    "data = data[data['id'].isin(valid_movie_ids)]\n",
    "\n",
    "rows_dropped = rows_before_validation - len(data)\n",
    "print(f\"Rows dropped (id not in movies_metadata): {rows_dropped}\")\n",
    "print(f\"Remaining rows: {len(data)}\")\n",
    "print(f\"Coverage: {(len(data)/len(valid_movie_ids))*100:.2f}% of movies have credits data\")"
   ],
   "outputs": [
    {
     "name": "stdout",
     "output_type": "stream",
     "text": [
      "Valid movie IDs in metadata: 45430\n",
      "Rows dropped (id not in movies_metadata): 3\n",
      "Remaining rows: 45473\n",
      "Coverage: 100.09% of movies have credits data\n"
     ]
    }
   ],
   "execution_count": 5
  },
  {
   "cell_type": "markdown",
   "id": "step4",
   "metadata": {},
   "source": [
    "# Step 4: Save cleaned credits dataset"
   ]
  },
  {
   "cell_type": "code",
   "id": "save_dataset",
   "metadata": {
    "ExecuteTime": {
     "end_time": "2025-10-25T03:56:56.827796Z",
     "start_time": "2025-10-25T03:56:56.726354Z"
    }
   },
   "source": [
    "# Select relevant columns\n",
    "columns_to_keep = ['id', 'cast_list', 'director_list']\n",
    "cleaned_data = data[columns_to_keep].copy()\n",
    "\n",
    "# Save to CSV\n",
    "output_path = '../../datasets/output/cleaned_datasets/cleaned_credits.csv'\n",
    "cleaned_data.to_csv(output_path, index=False)\n",
    "\n",
    "print(f\"✓ Cleaned credits dataset saved to: {output_path}\")\n",
    "print(f\"Final dataset: {len(cleaned_data)} rows, {len(cleaned_data.columns)} columns\")\n",
    "print(f\"\\nColumn summary:\")\n",
    "print(f\"  - id: Movie identifier (tmdbId)\")\n",
    "print(f\"  - cast_list: Top 5 actors\")\n",
    "print(f\"  - director_list: Director(s)\")\n",
    "print(f\"\\nSample data:\")\n",
    "print(cleaned_data.head())"
   ],
   "outputs": [
    {
     "name": "stdout",
     "output_type": "stream",
     "text": [
      "✓ Cleaned credits dataset saved to: ../../datasets/output/cleaned_datasets/cleaned_credits.csv\n",
      "Final dataset: 45473 rows, 3 columns\n",
      "\n",
      "Column summary:\n",
      "  - id: Movie identifier (tmdbId)\n",
      "  - cast_list: Top 5 actors\n",
      "  - director_list: Director(s)\n",
      "\n",
      "Sample data:\n",
      "      id                                          cast_list      director_list\n",
      "0    862  [Tom Hanks, Tim Allen, Don Rickles, Jim Varney...    [John Lasseter]\n",
      "1   8844  [Robin Williams, Jonathan Hyde, Kirsten Dunst,...     [Joe Johnston]\n",
      "2  15602  [Walter Matthau, Jack Lemmon, Ann-Margret, Sop...    [Howard Deutch]\n",
      "3  31357  [Whitney Houston, Angela Bassett, Loretta Devi...  [Forest Whitaker]\n",
      "4  11862  [Steve Martin, Diane Keaton, Martin Short, Kim...    [Charles Shyer]\n"
     ]
    }
   ],
   "execution_count": 6
  },
  {
   "metadata": {},
   "cell_type": "code",
   "outputs": [],
   "execution_count": null,
   "source": "",
   "id": "4c36c945ca7b6995"
  }
 ],
 "metadata": {
  "kernelspec": {
   "display_name": "Python 3",
   "language": "python",
   "name": "python3"
  },
  "language_info": {
   "codemirror_mode": {
    "name": "ipython",
    "version": 3
   },
   "file_extension": ".py",
   "mimetype": "text/x-python",
   "name": "python",
   "nbconvert_exporter": "python",
   "pygments_lexer": "ipython3",
   "version": "3.8.0"
  }
 },
 "nbformat": 4,
 "nbformat_minor": 5
}
