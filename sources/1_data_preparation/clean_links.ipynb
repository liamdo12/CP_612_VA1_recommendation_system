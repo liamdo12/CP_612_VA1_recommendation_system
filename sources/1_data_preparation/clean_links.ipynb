{
 "cells": [
  {
   "metadata": {},
   "cell_type": "markdown",
   "source": "# Handle missing data in Links.csv",
   "id": "868472b6ee14877b"
  },
  {
   "metadata": {
    "collapsed": true,
    "ExecuteTime": {
     "end_time": "2025-10-11T15:12:22.481567Z",
     "start_time": "2025-10-11T15:12:22.275134Z"
    }
   },
   "cell_type": "code",
   "outputs": [],
   "execution_count": 1,
   "source": [
    "import pandas as pd\n",
    "\n",
    "df = pd.read_csv('../../datasets/input/links.csv')\n",
    "data = df.copy()\n"
   ],
   "id": "b021f177ce7ae55e"
  },
  {
   "metadata": {
    "ExecuteTime": {
     "end_time": "2025-10-11T19:34:28.940588Z",
     "start_time": "2025-10-11T19:34:28.933186Z"
    }
   },
   "cell_type": "code",
   "source": [
    "print(\"Columns with missing data: \\n\")\n",
    "missing_data = []\n",
    "\n",
    "for col in data.columns:\n",
    "    missing_count = data[col].isnull().sum()\n",
    "    if missing_count > 0:\n",
    "        missing_pct = (missing_count / len(data)) * 100\n",
    "        missing_data.append({\n",
    "            'Column': col,\n",
    "            'Missing Count': missing_count,\n",
    "            'Missing %': f'{missing_pct:.2f}%'\n",
    "        })\n",
    "\n",
    "        print(f\"{col:30} | {missing_count:6} missing ({missing_pct:5.2f}%)\")\n",
    "\n",
    "print(f\"Total columns: {len(data.columns)}\")\n",
    "print(f\"Columns with missing data: {len(missing_data)}\")\n",
    "print(f\"Columns without missing data: {len(missing_data)-len(missing_data)}\")"
   ],
   "id": "69d730160d542bcb",
   "outputs": [
    {
     "name": "stdout",
     "output_type": "stream",
     "text": [
      "Columns with missing data: \n",
      "\n",
      "Total columns: 3\n",
      "Columns with missing data: 0\n",
      "Columns without missing data: 0\n"
     ]
    }
   ],
   "execution_count": 5
  },
  {
   "metadata": {},
   "cell_type": "markdown",
   "source": "# Step 1: Drop rows with missing tmdbId",
   "id": "92665d65ff036db9"
  },
  {
   "cell_type": "code",
   "id": "ygzf0cqo8v",
   "source": [
    "# Drop rows with missing tmdbId (cannot be used without this field) because there is only 0.48% low percentage and no bias after deletion\n",
    "rows_before = len(data)\n",
    "\n",
    "data = data.dropna(subset=['tmdbId'])\n",
    "\n",
    "rows_dropped = rows_before - len(data)\n",
    "print(f\"Rows dropped due to missing tmdbId: {rows_dropped}\")\n",
    "print(f\"Remaining rows: {len(data)}\")\n",
    "print(f\"Percentage retained: {(len(data)/rows_before)*100:.2f}%\")"
   ],
   "metadata": {
    "ExecuteTime": {
     "end_time": "2025-10-11T19:34:32.378173Z",
     "start_time": "2025-10-11T19:34:32.371473Z"
    }
   },
   "outputs": [
    {
     "name": "stdout",
     "output_type": "stream",
     "text": [
      "Rows dropped due to missing tmdbId: 0\n",
      "Remaining rows: 45624\n",
      "Percentage retained: 100.00%\n"
     ]
    }
   ],
   "execution_count": 6
  },
  {
   "cell_type": "markdown",
   "id": "omvceh2i57",
   "source": "# Step 2: Convert data types",
   "metadata": {}
  },
  {
   "cell_type": "code",
   "id": "y53o685pig9",
   "source": [
    "# Convert tmdbId to integer (for proper merging later)\n",
    "data['tmdbId'] = data['tmdbId'].astype(int)\n",
    "\n",
    "print(f\"✓ Data types converted\")\n",
    "print(f\"\\nCurrent data types:\")\n",
    "print(data.dtypes)\n",
    "\n",
    "print(data.head(10))"
   ],
   "metadata": {
    "ExecuteTime": {
     "end_time": "2025-10-11T19:35:01.715944Z",
     "start_time": "2025-10-11T19:35:01.709616Z"
    }
   },
   "outputs": [
    {
     "name": "stdout",
     "output_type": "stream",
     "text": [
      "✓ Data types converted\n",
      "\n",
      "Current data types:\n",
      "movieId    int64\n",
      "imdbId     int64\n",
      "tmdbId     int64\n",
      "dtype: object\n",
      "   movieId  imdbId  tmdbId\n",
      "0        1  114709     862\n",
      "1        2  113497    8844\n",
      "2        3  113228   15602\n",
      "3        4  114885   31357\n",
      "4        5  113041   11862\n",
      "5        6  113277     949\n",
      "6        7  114319   11860\n",
      "7        8  112302   45325\n",
      "8        9  114576    9091\n",
      "9       10  113189     710\n"
     ]
    }
   ],
   "execution_count": 9
  },
  {
   "cell_type": "markdown",
   "id": "ih82x5vnqn",
   "source": "# Step 3: Verify tmdbId",
   "metadata": {}
  },
  {
   "cell_type": "code",
   "id": "66mbrqi8gwm",
   "source": [
    "rows_before_validation = len(data)\n",
    "valid_tmdb_ids = set(data['tmdbId'].unique())\n",
    "\n",
    "rows_dropped = rows_before_validation - len(data)\n",
    "print(f\"Rows dropped (tmdbId not in movies_metadata): {rows_dropped}\")\n",
    "print(f\"Remaining rows: {len(data)}\")"
   ],
   "metadata": {
    "ExecuteTime": {
     "end_time": "2025-10-11T19:35:31.085903Z",
     "start_time": "2025-10-11T19:35:31.079503Z"
    }
   },
   "outputs": [
    {
     "name": "stdout",
     "output_type": "stream",
     "text": [
      "Rows dropped (tmdbId not in movies_metadata): 0\n",
      "Remaining rows: 45624\n"
     ]
    }
   ],
   "execution_count": 10
  },
  {
   "cell_type": "markdown",
   "id": "dw83q43dcom",
   "source": "# Step 4: Save cleaned links dataset",
   "metadata": {}
  },
  {
   "cell_type": "code",
   "id": "umhr61eqjo",
   "source": [
    "output_path = '../../datasets/output/cleaned_datasets/cleaned_links.csv'\n",
    "data.to_csv(output_path, index=False)"
   ],
   "metadata": {
    "ExecuteTime": {
     "end_time": "2025-10-11T19:46:00.955655Z",
     "start_time": "2025-10-11T19:46:00.919099Z"
    }
   },
   "outputs": [],
   "execution_count": 12
  },
  {
   "metadata": {},
   "cell_type": "code",
   "outputs": [],
   "execution_count": null,
   "source": "",
   "id": "363dc8c659128bbb"
  }
 ],
 "metadata": {
  "kernelspec": {
   "display_name": "Python 3",
   "language": "python",
   "name": "python3"
  },
  "language_info": {
   "codemirror_mode": {
    "name": "ipython",
    "version": 2
   },
   "file_extension": ".py",
   "mimetype": "text/x-python",
   "name": "python",
   "nbconvert_exporter": "python",
   "pygments_lexer": "ipython2",
   "version": "2.7.6"
  }
 },
 "nbformat": 4,
 "nbformat_minor": 5
}
